{
 "cells": [
  {
   "cell_type": "markdown",
   "metadata": {},
   "source": [
    "# Data Science Challenge"
   ]
  },
  {
   "cell_type": "markdown",
   "metadata": {},
   "source": [
    "This challenge was developed in PYTHON 3 as show on readme.md"
   ]
  },
  {
   "cell_type": "code",
   "execution_count": 1,
   "metadata": {},
   "outputs": [],
   "source": [
    "import pandas as pd\n",
    "import seaborn as sns\n",
    "import numpy as np\n",
    "import matplotlib.pyplot as plt"
   ]
  },
  {
   "cell_type": "markdown",
   "metadata": {},
   "source": [
    "#### importing data set"
   ]
  },
  {
   "cell_type": "code",
   "execution_count": 2,
   "metadata": {},
   "outputs": [
    {
     "data": {
      "text/plain": [
       "(45211, 17)"
      ]
     },
     "execution_count": 2,
     "metadata": {},
     "output_type": "execute_result"
    }
   ],
   "source": [
    "data = pd.read_csv('bank-full.csv', sep=';', quotechar='\"', encoding='utf8',parse_dates=True)\n",
    "data.shape"
   ]
  },
  {
   "cell_type": "code",
   "execution_count": 3,
   "metadata": {},
   "outputs": [
    {
     "name": "stdout",
     "output_type": "stream",
     "text": [
      "<class 'pandas.core.frame.DataFrame'>\n",
      "RangeIndex: 45211 entries, 0 to 45210\n",
      "Data columns (total 17 columns):\n",
      "age          45211 non-null int64\n",
      "job          45211 non-null object\n",
      "marital      45211 non-null object\n",
      "education    45211 non-null object\n",
      "default      45211 non-null object\n",
      "balance      45211 non-null int64\n",
      "housing      45211 non-null object\n",
      "loan         45211 non-null object\n",
      "contact      45211 non-null object\n",
      "day          45211 non-null int64\n",
      "month        45211 non-null object\n",
      "duration     45211 non-null int64\n",
      "campaign     45211 non-null int64\n",
      "pdays        45211 non-null int64\n",
      "previous     45211 non-null int64\n",
      "poutcome     45211 non-null object\n",
      "y            45211 non-null object\n",
      "dtypes: int64(7), object(10)\n",
      "memory usage: 5.9+ MB\n"
     ]
    }
   ],
   "source": [
    "data.head(5)\n",
    "data.info()"
   ]
  },
  {
   "cell_type": "markdown",
   "metadata": {},
   "source": [
    "## First question"
   ]
  },
  {
   "cell_type": "code",
   "execution_count": 4,
   "metadata": {},
   "outputs": [
    {
     "data": {
      "text/plain": [
       "array(['no', 'yes'], dtype=object)"
      ]
     },
     "execution_count": 4,
     "metadata": {},
     "output_type": "execute_result"
    }
   ],
   "source": [
    "# Housing and loan variables was used\n",
    "data['housing'].unique()\n",
    "data['loan'].unique()"
   ]
  },
  {
   "cell_type": "code",
   "execution_count": 5,
   "metadata": {},
   "outputs": [
    {
     "data": {
      "text/html": [
       "<div>\n",
       "<style scoped>\n",
       "    .dataframe tbody tr th:only-of-type {\n",
       "        vertical-align: middle;\n",
       "    }\n",
       "\n",
       "    .dataframe tbody tr th {\n",
       "        vertical-align: top;\n",
       "    }\n",
       "\n",
       "    .dataframe thead th {\n",
       "        text-align: right;\n",
       "    }\n",
       "</style>\n",
       "<table border=\"1\" class=\"dataframe\">\n",
       "  <thead>\n",
       "    <tr style=\"text-align: right;\">\n",
       "      <th></th>\n",
       "      <th>job</th>\n",
       "      <th>housing_no</th>\n",
       "      <th>housing_yes</th>\n",
       "      <th>loan_no</th>\n",
       "      <th>loan_yes</th>\n",
       "    </tr>\n",
       "  </thead>\n",
       "  <tbody>\n",
       "    <tr>\n",
       "      <th>0</th>\n",
       "      <td>admin.</td>\n",
       "      <td>1989.0</td>\n",
       "      <td>3182.0</td>\n",
       "      <td>4180.0</td>\n",
       "      <td>991.0</td>\n",
       "    </tr>\n",
       "    <tr>\n",
       "      <th>1</th>\n",
       "      <td>blue-collar</td>\n",
       "      <td>2684.0</td>\n",
       "      <td>7048.0</td>\n",
       "      <td>8048.0</td>\n",
       "      <td>1684.0</td>\n",
       "    </tr>\n",
       "    <tr>\n",
       "      <th>2</th>\n",
       "      <td>entrepreneur</td>\n",
       "      <td>618.0</td>\n",
       "      <td>869.0</td>\n",
       "      <td>1131.0</td>\n",
       "      <td>356.0</td>\n",
       "    </tr>\n",
       "    <tr>\n",
       "      <th>3</th>\n",
       "      <td>housemaid</td>\n",
       "      <td>842.0</td>\n",
       "      <td>398.0</td>\n",
       "      <td>1088.0</td>\n",
       "      <td>152.0</td>\n",
       "    </tr>\n",
       "    <tr>\n",
       "      <th>4</th>\n",
       "      <td>management</td>\n",
       "      <td>4780.0</td>\n",
       "      <td>4678.0</td>\n",
       "      <td>8205.0</td>\n",
       "      <td>1253.0</td>\n",
       "    </tr>\n",
       "    <tr>\n",
       "      <th>5</th>\n",
       "      <td>retired</td>\n",
       "      <td>1773.0</td>\n",
       "      <td>491.0</td>\n",
       "      <td>1955.0</td>\n",
       "      <td>309.0</td>\n",
       "    </tr>\n",
       "    <tr>\n",
       "      <th>6</th>\n",
       "      <td>self-employed</td>\n",
       "      <td>814.0</td>\n",
       "      <td>765.0</td>\n",
       "      <td>1350.0</td>\n",
       "      <td>229.0</td>\n",
       "    </tr>\n",
       "    <tr>\n",
       "      <th>7</th>\n",
       "      <td>services</td>\n",
       "      <td>1388.0</td>\n",
       "      <td>2766.0</td>\n",
       "      <td>3318.0</td>\n",
       "      <td>836.0</td>\n",
       "    </tr>\n",
       "    <tr>\n",
       "      <th>8</th>\n",
       "      <td>student</td>\n",
       "      <td>689.0</td>\n",
       "      <td>249.0</td>\n",
       "      <td>926.0</td>\n",
       "      <td>12.0</td>\n",
       "    </tr>\n",
       "    <tr>\n",
       "      <th>9</th>\n",
       "      <td>technician</td>\n",
       "      <td>3482.0</td>\n",
       "      <td>4115.0</td>\n",
       "      <td>6288.0</td>\n",
       "      <td>1309.0</td>\n",
       "    </tr>\n",
       "    <tr>\n",
       "      <th>10</th>\n",
       "      <td>unemployed</td>\n",
       "      <td>760.0</td>\n",
       "      <td>543.0</td>\n",
       "      <td>1194.0</td>\n",
       "      <td>109.0</td>\n",
       "    </tr>\n",
       "    <tr>\n",
       "      <th>11</th>\n",
       "      <td>unknown</td>\n",
       "      <td>262.0</td>\n",
       "      <td>26.0</td>\n",
       "      <td>284.0</td>\n",
       "      <td>4.0</td>\n",
       "    </tr>\n",
       "  </tbody>\n",
       "</table>\n",
       "</div>"
      ],
      "text/plain": [
       "              job  housing_no  housing_yes  loan_no  loan_yes\n",
       "0          admin.      1989.0       3182.0   4180.0     991.0\n",
       "1     blue-collar      2684.0       7048.0   8048.0    1684.0\n",
       "2    entrepreneur       618.0        869.0   1131.0     356.0\n",
       "3       housemaid       842.0        398.0   1088.0     152.0\n",
       "4      management      4780.0       4678.0   8205.0    1253.0\n",
       "5         retired      1773.0        491.0   1955.0     309.0\n",
       "6   self-employed       814.0        765.0   1350.0     229.0\n",
       "7        services      1388.0       2766.0   3318.0     836.0\n",
       "8         student       689.0        249.0    926.0      12.0\n",
       "9      technician      3482.0       4115.0   6288.0    1309.0\n",
       "10     unemployed       760.0        543.0   1194.0     109.0\n",
       "11        unknown       262.0         26.0    284.0       4.0"
      ]
     },
     "execution_count": 5,
     "metadata": {},
     "output_type": "execute_result"
    }
   ],
   "source": [
    "# Create a new Dataframe with 0 and 1 for 'Housing' and 'loan' variables and grouping by variable 'job'\n",
    "new_df = pd.get_dummies(data[['job', 'housing', 'loan']], columns=['housing', 'loan'])\n",
    "new_df_group = new_df.groupby('job', as_index=False).sum()\n",
    "new_df_group"
   ]
  },
  {
   "cell_type": "code",
   "execution_count": 6,
   "metadata": {},
   "outputs": [],
   "source": [
    "# Calculating trend value\n",
    "new_df_group['housing'] = new_df_group['housing_yes']/(new_df_group['housing_yes'] + new_df_group['housing_no'])\n",
    "new_df_group['loan'] = new_df_group['loan_yes']/(new_df_group['loan_yes'] + new_df_group['loan_no'])"
   ]
  },
  {
   "cell_type": "code",
   "execution_count": 7,
   "metadata": {},
   "outputs": [
    {
     "data": {
      "text/html": [
       "<div>\n",
       "<style scoped>\n",
       "    .dataframe tbody tr th:only-of-type {\n",
       "        vertical-align: middle;\n",
       "    }\n",
       "\n",
       "    .dataframe tbody tr th {\n",
       "        vertical-align: top;\n",
       "    }\n",
       "\n",
       "    .dataframe thead th {\n",
       "        text-align: right;\n",
       "    }\n",
       "</style>\n",
       "<table border=\"1\" class=\"dataframe\">\n",
       "  <thead>\n",
       "    <tr style=\"text-align: right;\">\n",
       "      <th></th>\n",
       "      <th>job</th>\n",
       "      <th>housing_no</th>\n",
       "      <th>housing_yes</th>\n",
       "      <th>loan_no</th>\n",
       "      <th>loan_yes</th>\n",
       "      <th>housing</th>\n",
       "      <th>loan</th>\n",
       "    </tr>\n",
       "  </thead>\n",
       "  <tbody>\n",
       "    <tr>\n",
       "      <th>1</th>\n",
       "      <td>blue-collar</td>\n",
       "      <td>2684.0</td>\n",
       "      <td>7048.0</td>\n",
       "      <td>8048.0</td>\n",
       "      <td>1684.0</td>\n",
       "      <td>0.724209</td>\n",
       "      <td>0.173037</td>\n",
       "    </tr>\n",
       "    <tr>\n",
       "      <th>7</th>\n",
       "      <td>services</td>\n",
       "      <td>1388.0</td>\n",
       "      <td>2766.0</td>\n",
       "      <td>3318.0</td>\n",
       "      <td>836.0</td>\n",
       "      <td>0.665864</td>\n",
       "      <td>0.201252</td>\n",
       "    </tr>\n",
       "    <tr>\n",
       "      <th>0</th>\n",
       "      <td>admin.</td>\n",
       "      <td>1989.0</td>\n",
       "      <td>3182.0</td>\n",
       "      <td>4180.0</td>\n",
       "      <td>991.0</td>\n",
       "      <td>0.615355</td>\n",
       "      <td>0.191646</td>\n",
       "    </tr>\n",
       "    <tr>\n",
       "      <th>2</th>\n",
       "      <td>entrepreneur</td>\n",
       "      <td>618.0</td>\n",
       "      <td>869.0</td>\n",
       "      <td>1131.0</td>\n",
       "      <td>356.0</td>\n",
       "      <td>0.584398</td>\n",
       "      <td>0.239408</td>\n",
       "    </tr>\n",
       "    <tr>\n",
       "      <th>9</th>\n",
       "      <td>technician</td>\n",
       "      <td>3482.0</td>\n",
       "      <td>4115.0</td>\n",
       "      <td>6288.0</td>\n",
       "      <td>1309.0</td>\n",
       "      <td>0.541661</td>\n",
       "      <td>0.172305</td>\n",
       "    </tr>\n",
       "    <tr>\n",
       "      <th>4</th>\n",
       "      <td>management</td>\n",
       "      <td>4780.0</td>\n",
       "      <td>4678.0</td>\n",
       "      <td>8205.0</td>\n",
       "      <td>1253.0</td>\n",
       "      <td>0.494608</td>\n",
       "      <td>0.132480</td>\n",
       "    </tr>\n",
       "    <tr>\n",
       "      <th>6</th>\n",
       "      <td>self-employed</td>\n",
       "      <td>814.0</td>\n",
       "      <td>765.0</td>\n",
       "      <td>1350.0</td>\n",
       "      <td>229.0</td>\n",
       "      <td>0.484484</td>\n",
       "      <td>0.145028</td>\n",
       "    </tr>\n",
       "    <tr>\n",
       "      <th>10</th>\n",
       "      <td>unemployed</td>\n",
       "      <td>760.0</td>\n",
       "      <td>543.0</td>\n",
       "      <td>1194.0</td>\n",
       "      <td>109.0</td>\n",
       "      <td>0.416731</td>\n",
       "      <td>0.083653</td>\n",
       "    </tr>\n",
       "    <tr>\n",
       "      <th>3</th>\n",
       "      <td>housemaid</td>\n",
       "      <td>842.0</td>\n",
       "      <td>398.0</td>\n",
       "      <td>1088.0</td>\n",
       "      <td>152.0</td>\n",
       "      <td>0.320968</td>\n",
       "      <td>0.122581</td>\n",
       "    </tr>\n",
       "    <tr>\n",
       "      <th>8</th>\n",
       "      <td>student</td>\n",
       "      <td>689.0</td>\n",
       "      <td>249.0</td>\n",
       "      <td>926.0</td>\n",
       "      <td>12.0</td>\n",
       "      <td>0.265458</td>\n",
       "      <td>0.012793</td>\n",
       "    </tr>\n",
       "    <tr>\n",
       "      <th>5</th>\n",
       "      <td>retired</td>\n",
       "      <td>1773.0</td>\n",
       "      <td>491.0</td>\n",
       "      <td>1955.0</td>\n",
       "      <td>309.0</td>\n",
       "      <td>0.216873</td>\n",
       "      <td>0.136484</td>\n",
       "    </tr>\n",
       "    <tr>\n",
       "      <th>11</th>\n",
       "      <td>unknown</td>\n",
       "      <td>262.0</td>\n",
       "      <td>26.0</td>\n",
       "      <td>284.0</td>\n",
       "      <td>4.0</td>\n",
       "      <td>0.090278</td>\n",
       "      <td>0.013889</td>\n",
       "    </tr>\n",
       "  </tbody>\n",
       "</table>\n",
       "</div>"
      ],
      "text/plain": [
       "              job  housing_no  housing_yes  loan_no  loan_yes   housing  \\\n",
       "1     blue-collar      2684.0       7048.0   8048.0    1684.0  0.724209   \n",
       "7        services      1388.0       2766.0   3318.0     836.0  0.665864   \n",
       "0          admin.      1989.0       3182.0   4180.0     991.0  0.615355   \n",
       "2    entrepreneur       618.0        869.0   1131.0     356.0  0.584398   \n",
       "9      technician      3482.0       4115.0   6288.0    1309.0  0.541661   \n",
       "4      management      4780.0       4678.0   8205.0    1253.0  0.494608   \n",
       "6   self-employed       814.0        765.0   1350.0     229.0  0.484484   \n",
       "10     unemployed       760.0        543.0   1194.0     109.0  0.416731   \n",
       "3       housemaid       842.0        398.0   1088.0     152.0  0.320968   \n",
       "8         student       689.0        249.0    926.0      12.0  0.265458   \n",
       "5         retired      1773.0        491.0   1955.0     309.0  0.216873   \n",
       "11        unknown       262.0         26.0    284.0       4.0  0.090278   \n",
       "\n",
       "        loan  \n",
       "1   0.173037  \n",
       "7   0.201252  \n",
       "0   0.191646  \n",
       "2   0.239408  \n",
       "9   0.172305  \n",
       "4   0.132480  \n",
       "6   0.145028  \n",
       "10  0.083653  \n",
       "3   0.122581  \n",
       "8   0.012793  \n",
       "5   0.136484  \n",
       "11  0.013889  "
      ]
     },
     "execution_count": 7,
     "metadata": {},
     "output_type": "execute_result"
    }
   ],
   "source": [
    "# Sort values by highest to lowest housing loan variables\n",
    "new_df_group = new_df_group.sort_values(by='housing', ascending=False)\n",
    "new_df_group"
   ]
  },
  {
   "cell_type": "code",
   "execution_count": 8,
   "metadata": {},
   "outputs": [
    {
     "data": {
      "image/png": "[encoded data removed]",
      "text/plain": [
       "<Figure size 720x504 with 1 Axes>"
      ]
     },
     "metadata": {},
     "output_type": "display_data"
    }
   ],
   "source": [
    "# Initialize the matplotlib figure and seabond sytle\n",
    "f, ax = plt.subplots(figsize=(10,7))\n",
    "sns.set(style='whitegrid')\n",
    "sns.set_color_codes('pastel')\n",
    "sns.barplot(x='housing', y='job', data=new_df_group, label='Housing', color='r')\n",
    "\n",
    "sns.set_color_codes('muted')\n",
    "sns.barplot(x='loan', y='job', data=new_df_group, label='Load', color='r')\n",
    "\n",
    "ax.legend(ncol=2, loc='lower right', frameon=True)\n",
    "ax.set(xlim=(0, 1), ylabel='Job', xlabel='Ratio')\n",
    "sns.despine(left=True, bottom=True)\n",
    "plt.savefig('question_1.png');"
   ]
  },
  {
   "cell_type": "markdown",
   "metadata": {},
   "source": [
    "## Second question"
   ]
  },
  {
   "cell_type": "code",
   "execution_count": 9,
   "metadata": {},
   "outputs": [
    {
     "data": {
      "text/html": [
       "<div>\n",
       "<style scoped>\n",
       "    .dataframe tbody tr th:only-of-type {\n",
       "        vertical-align: middle;\n",
       "    }\n",
       "\n",
       "    .dataframe tbody tr th {\n",
       "        vertical-align: top;\n",
       "    }\n",
       "\n",
       "    .dataframe thead th {\n",
       "        text-align: right;\n",
       "    }\n",
       "</style>\n",
       "<table border=\"1\" class=\"dataframe\">\n",
       "  <thead>\n",
       "    <tr style=\"text-align: right;\">\n",
       "      <th></th>\n",
       "      <th>y</th>\n",
       "      <th>age</th>\n",
       "      <th>job</th>\n",
       "      <th>marital</th>\n",
       "      <th>education</th>\n",
       "      <th>default</th>\n",
       "      <th>balance</th>\n",
       "      <th>housing</th>\n",
       "      <th>loan</th>\n",
       "      <th>contact</th>\n",
       "      <th>day</th>\n",
       "      <th>month</th>\n",
       "      <th>duration</th>\n",
       "      <th>campaign</th>\n",
       "      <th>pdays</th>\n",
       "      <th>previous</th>\n",
       "      <th>poutcome</th>\n",
       "    </tr>\n",
       "  </thead>\n",
       "  <tbody>\n",
       "    <tr>\n",
       "      <th>0</th>\n",
       "      <td>no</td>\n",
       "      <td>39922</td>\n",
       "      <td>39922</td>\n",
       "      <td>39922</td>\n",
       "      <td>39922</td>\n",
       "      <td>39922</td>\n",
       "      <td>39922</td>\n",
       "      <td>39922</td>\n",
       "      <td>39922</td>\n",
       "      <td>39922</td>\n",
       "      <td>39922</td>\n",
       "      <td>39922</td>\n",
       "      <td>39922</td>\n",
       "      <td>39922</td>\n",
       "      <td>39922</td>\n",
       "      <td>39922</td>\n",
       "      <td>39922</td>\n",
       "    </tr>\n",
       "    <tr>\n",
       "      <th>1</th>\n",
       "      <td>yes</td>\n",
       "      <td>5289</td>\n",
       "      <td>5289</td>\n",
       "      <td>5289</td>\n",
       "      <td>5289</td>\n",
       "      <td>5289</td>\n",
       "      <td>5289</td>\n",
       "      <td>5289</td>\n",
       "      <td>5289</td>\n",
       "      <td>5289</td>\n",
       "      <td>5289</td>\n",
       "      <td>5289</td>\n",
       "      <td>5289</td>\n",
       "      <td>5289</td>\n",
       "      <td>5289</td>\n",
       "      <td>5289</td>\n",
       "      <td>5289</td>\n",
       "    </tr>\n",
       "  </tbody>\n",
       "</table>\n",
       "</div>"
      ],
      "text/plain": [
       "     y    age    job  marital  education  default  balance  housing   loan  \\\n",
       "0   no  39922  39922    39922      39922    39922    39922    39922  39922   \n",
       "1  yes   5289   5289     5289       5289     5289     5289     5289   5289   \n",
       "\n",
       "   contact    day  month  duration  campaign  pdays  previous  poutcome  \n",
       "0    39922  39922  39922     39922     39922  39922     39922     39922  \n",
       "1     5289   5289   5289      5289      5289   5289      5289      5289  "
      ]
     },
     "execution_count": 9,
     "metadata": {},
     "output_type": "execute_result"
    }
   ],
   "source": [
    "# initially the variable \"y\" must be grouped, then the .count() operation is applied\n",
    "new_df2 = data.groupby('y', as_index=False).count()\n",
    "new_df2"
   ]
  },
  {
   "cell_type": "code",
   "execution_count": 10,
   "metadata": {},
   "outputs": [
    {
     "data": {
      "image/png": "[encoded data removed]",
      "text/plain": [
       "<Figure size 720x360 with 2 Axes>"
      ]
     },
     "metadata": {},
     "output_type": "display_data"
    }
   ],
   "source": [
    "# initialize the matplotlib figure and seabond sytle\n",
    "f, (ax1, ax2) = plt.subplots(1,2, figsize=(10,5))\n",
    "sns.barplot(x='campaign', y='y', data=new_df2, ax=ax1)\n",
    "ax1.set(xlim=(0, new_df2['campaign'].max()*1.2), ylabel='Client Subscribed', xlabel='Campaing')\n",
    "sns.despine(left=True, bottom=True)\n",
    "# Pie plot\n",
    "explode = (0, 0.1)  \n",
    "ax2.pie(new_df2['campaign'], explode=explode, autopct='%1.1f%%',shadow=True, startangle=90)\n",
    "ax2.axis('equal')\n",
    "plt.tight_layout()\n",
    "plt.savefig('question_2.png')"
   ]
  },
  {
   "cell_type": "markdown",
   "metadata": {},
   "source": [
    "## Third question"
   ]
  },
  {
   "cell_type": "code",
   "execution_count": 11,
   "metadata": {},
   "outputs": [
    {
     "data": {
      "text/html": [
       "<div>\n",
       "<style scoped>\n",
       "    .dataframe tbody tr th:only-of-type {\n",
       "        vertical-align: middle;\n",
       "    }\n",
       "\n",
       "    .dataframe tbody tr th {\n",
       "        vertical-align: top;\n",
       "    }\n",
       "\n",
       "    .dataframe thead th {\n",
       "        text-align: right;\n",
       "    }\n",
       "</style>\n",
       "<table border=\"1\" class=\"dataframe\">\n",
       "  <thead>\n",
       "    <tr style=\"text-align: right;\">\n",
       "      <th></th>\n",
       "      <th>campaign_no</th>\n",
       "      <th>campaign_yes</th>\n",
       "    </tr>\n",
       "  </thead>\n",
       "  <tbody>\n",
       "    <tr>\n",
       "      <th>count</th>\n",
       "      <td>39922.000000</td>\n",
       "      <td>5289.000000</td>\n",
       "    </tr>\n",
       "    <tr>\n",
       "      <th>mean</th>\n",
       "      <td>2.846350</td>\n",
       "      <td>2.141047</td>\n",
       "    </tr>\n",
       "    <tr>\n",
       "      <th>std</th>\n",
       "      <td>3.212767</td>\n",
       "      <td>1.921826</td>\n",
       "    </tr>\n",
       "    <tr>\n",
       "      <th>min</th>\n",
       "      <td>1.000000</td>\n",
       "      <td>1.000000</td>\n",
       "    </tr>\n",
       "    <tr>\n",
       "      <th>25%</th>\n",
       "      <td>1.000000</td>\n",
       "      <td>1.000000</td>\n",
       "    </tr>\n",
       "    <tr>\n",
       "      <th>50%</th>\n",
       "      <td>2.000000</td>\n",
       "      <td>2.000000</td>\n",
       "    </tr>\n",
       "    <tr>\n",
       "      <th>75%</th>\n",
       "      <td>3.000000</td>\n",
       "      <td>3.000000</td>\n",
       "    </tr>\n",
       "    <tr>\n",
       "      <th>max</th>\n",
       "      <td>63.000000</td>\n",
       "      <td>32.000000</td>\n",
       "    </tr>\n",
       "  </tbody>\n",
       "</table>\n",
       "</div>"
      ],
      "text/plain": [
       "        campaign_no  campaign_yes\n",
       "count  39922.000000   5289.000000\n",
       "mean       2.846350      2.141047\n",
       "std        3.212767      1.921826\n",
       "min        1.000000      1.000000\n",
       "25%        1.000000      1.000000\n",
       "50%        2.000000      2.000000\n",
       "75%        3.000000      3.000000\n",
       "max       63.000000     32.000000"
      ]
     },
     "execution_count": 11,
     "metadata": {},
     "output_type": "execute_result"
    }
   ],
   "source": [
    "new_df3 = pd.DataFrame({'campaign_no': data[data['y'] == 'no']['campaign'].describe()})\n",
    "new_df3['campaign_yes'] = data[data['y'] == 'yes']['campaign'].describe()\n",
    "new_df3"
   ]
  },
  {
   "cell_type": "code",
   "execution_count": 12,
   "metadata": {},
   "outputs": [
    {
     "data": {
      "image/png": "[encoded data removed]",
      "text/plain": [
       "<Figure size 360x432 with 1 Axes>"
      ]
     },
     "metadata": {},
     "output_type": "display_data"
    }
   ],
   "source": [
    "# initialize the matplotlib figure and seabond sytle\n",
    "f, ax = plt.subplots(figsize=(5,6))\n",
    "sns.boxplot(x='y', y='campaign', data=data)\n",
    "ax.set(ylabel='Number of Contacts During this Campaign', xlabel='Client Subscribed')\n",
    "plt.savefig('question_3.png')"
   ]
  },
  {
   "cell_type": "markdown",
   "metadata": {},
   "source": [
    "## Fourth question"
   ]
  },
  {
   "cell_type": "code",
   "execution_count": 13,
   "metadata": {},
   "outputs": [
    {
     "data": {
      "text/html": [
       "<div>\n",
       "<style scoped>\n",
       "    .dataframe tbody tr th:only-of-type {\n",
       "        vertical-align: middle;\n",
       "    }\n",
       "\n",
       "    .dataframe tbody tr th {\n",
       "        vertical-align: top;\n",
       "    }\n",
       "\n",
       "    .dataframe thead th {\n",
       "        text-align: right;\n",
       "    }\n",
       "</style>\n",
       "<table border=\"1\" class=\"dataframe\">\n",
       "  <thead>\n",
       "    <tr style=\"text-align: right;\">\n",
       "      <th></th>\n",
       "      <th>poutcome_failure</th>\n",
       "      <th>poutcome_other</th>\n",
       "      <th>poutcome_success</th>\n",
       "      <th>poutcome_unknown</th>\n",
       "      <th>y_no</th>\n",
       "      <th>y_yes</th>\n",
       "    </tr>\n",
       "  </thead>\n",
       "  <tbody>\n",
       "    <tr>\n",
       "      <th>poutcome_failure</th>\n",
       "      <td>1.000000</td>\n",
       "      <td>-0.071820</td>\n",
       "      <td>-0.064838</td>\n",
       "      <td>-0.737932</td>\n",
       "      <td>-0.009885</td>\n",
       "      <td>0.009885</td>\n",
       "    </tr>\n",
       "    <tr>\n",
       "      <th>poutcome_other</th>\n",
       "      <td>-0.071820</td>\n",
       "      <td>1.000000</td>\n",
       "      <td>-0.038300</td>\n",
       "      <td>-0.435903</td>\n",
       "      <td>-0.031955</td>\n",
       "      <td>0.031955</td>\n",
       "    </tr>\n",
       "    <tr>\n",
       "      <th>poutcome_success</th>\n",
       "      <td>-0.064838</td>\n",
       "      <td>-0.038300</td>\n",
       "      <td>1.000000</td>\n",
       "      <td>-0.393525</td>\n",
       "      <td>-0.306788</td>\n",
       "      <td>0.306788</td>\n",
       "    </tr>\n",
       "    <tr>\n",
       "      <th>poutcome_unknown</th>\n",
       "      <td>-0.737932</td>\n",
       "      <td>-0.435903</td>\n",
       "      <td>-0.393525</td>\n",
       "      <td>1.000000</td>\n",
       "      <td>0.167051</td>\n",
       "      <td>-0.167051</td>\n",
       "    </tr>\n",
       "    <tr>\n",
       "      <th>y_no</th>\n",
       "      <td>-0.009885</td>\n",
       "      <td>-0.031955</td>\n",
       "      <td>-0.306788</td>\n",
       "      <td>0.167051</td>\n",
       "      <td>1.000000</td>\n",
       "      <td>-1.000000</td>\n",
       "    </tr>\n",
       "    <tr>\n",
       "      <th>y_yes</th>\n",
       "      <td>0.009885</td>\n",
       "      <td>0.031955</td>\n",
       "      <td>0.306788</td>\n",
       "      <td>-0.167051</td>\n",
       "      <td>-1.000000</td>\n",
       "      <td>1.000000</td>\n",
       "    </tr>\n",
       "  </tbody>\n",
       "</table>\n",
       "</div>"
      ],
      "text/plain": [
       "                  poutcome_failure  poutcome_other  poutcome_success  \\\n",
       "poutcome_failure          1.000000       -0.071820         -0.064838   \n",
       "poutcome_other           -0.071820        1.000000         -0.038300   \n",
       "poutcome_success         -0.064838       -0.038300          1.000000   \n",
       "poutcome_unknown         -0.737932       -0.435903         -0.393525   \n",
       "y_no                     -0.009885       -0.031955         -0.306788   \n",
       "y_yes                     0.009885        0.031955          0.306788   \n",
       "\n",
       "                  poutcome_unknown      y_no     y_yes  \n",
       "poutcome_failure         -0.737932 -0.009885  0.009885  \n",
       "poutcome_other           -0.435903 -0.031955  0.031955  \n",
       "poutcome_success         -0.393525 -0.306788  0.306788  \n",
       "poutcome_unknown          1.000000  0.167051 -0.167051  \n",
       "y_no                      0.167051  1.000000 -1.000000  \n",
       "y_yes                    -0.167051 -1.000000  1.000000  "
      ]
     },
     "execution_count": 13,
     "metadata": {},
     "output_type": "execute_result"
    }
   ],
   "source": [
    "new_df4 = pd.get_dummies(data[['poutcome', 'y']])\n",
    "correlation = new_df4.corr(method='pearson')\n",
    "correlation"
   ]
  },
  {
   "cell_type": "code",
   "execution_count": 14,
   "metadata": {},
   "outputs": [
    {
     "data": {
      "image/png": "[encoded data removed]",
      "text/plain": [
       "<Figure size 864x720 with 2 Axes>"
      ]
     },
     "metadata": {},
     "output_type": "display_data"
    }
   ],
   "source": [
    "# initialize the matplotlib figure and seabond sytle\n",
    "mask = np.zeros_like(correlation)\n",
    "mask[np.triu_indices_from(mask)] = True\n",
    "\n",
    "with sns.axes_style('white'):\n",
    "    plt.figure(figsize=(12,10))\n",
    "    ax = sns.heatmap(correlation, mask=mask, vmax=.4, square=True,annot=True, cmap='YlGnBu')\n",
    "    plt.savefig('question_4.png')"
   ]
  },
  {
   "cell_type": "markdown",
   "metadata": {},
   "source": [
    "## Fifth question"
   ]
  },
  {
   "cell_type": "code",
   "execution_count": 15,
   "metadata": {},
   "outputs": [],
   "source": [
    "default_y = data[(data['default'] == 'yes') ]['balance']\n",
    "default_n = data[(data['default'] == 'no') ]['balance']"
   ]
  },
  {
   "cell_type": "code",
   "execution_count": 16,
   "metadata": {},
   "outputs": [
    {
     "data": {
      "text/html": [
       "<div>\n",
       "<style scoped>\n",
       "    .dataframe tbody tr th:only-of-type {\n",
       "        vertical-align: middle;\n",
       "    }\n",
       "\n",
       "    .dataframe tbody tr th {\n",
       "        vertical-align: top;\n",
       "    }\n",
       "\n",
       "    .dataframe thead th {\n",
       "        text-align: right;\n",
       "    }\n",
       "</style>\n",
       "<table border=\"1\" class=\"dataframe\">\n",
       "  <thead>\n",
       "    <tr style=\"text-align: right;\">\n",
       "      <th></th>\n",
       "      <th>default_yes</th>\n",
       "      <th>default_no</th>\n",
       "    </tr>\n",
       "  </thead>\n",
       "  <tbody>\n",
       "    <tr>\n",
       "      <th>count</th>\n",
       "      <td>815.000000</td>\n",
       "      <td>44396.000000</td>\n",
       "    </tr>\n",
       "    <tr>\n",
       "      <th>mean</th>\n",
       "      <td>-137.624540</td>\n",
       "      <td>1389.806424</td>\n",
       "    </tr>\n",
       "    <tr>\n",
       "      <th>std</th>\n",
       "      <td>906.704678</td>\n",
       "      <td>3063.275425</td>\n",
       "    </tr>\n",
       "    <tr>\n",
       "      <th>min</th>\n",
       "      <td>-8019.000000</td>\n",
       "      <td>-4057.000000</td>\n",
       "    </tr>\n",
       "    <tr>\n",
       "      <th>25%</th>\n",
       "      <td>-339.000000</td>\n",
       "      <td>84.000000</td>\n",
       "    </tr>\n",
       "    <tr>\n",
       "      <th>50%</th>\n",
       "      <td>-7.000000</td>\n",
       "      <td>468.000000</td>\n",
       "    </tr>\n",
       "    <tr>\n",
       "      <th>75%</th>\n",
       "      <td>15.000000</td>\n",
       "      <td>1462.250000</td>\n",
       "    </tr>\n",
       "    <tr>\n",
       "      <th>max</th>\n",
       "      <td>16486.000000</td>\n",
       "      <td>102127.000000</td>\n",
       "    </tr>\n",
       "  </tbody>\n",
       "</table>\n",
       "</div>"
      ],
      "text/plain": [
       "        default_yes     default_no\n",
       "count    815.000000   44396.000000\n",
       "mean    -137.624540    1389.806424\n",
       "std      906.704678    3063.275425\n",
       "min    -8019.000000   -4057.000000\n",
       "25%     -339.000000      84.000000\n",
       "50%       -7.000000     468.000000\n",
       "75%       15.000000    1462.250000\n",
       "max    16486.000000  102127.000000"
      ]
     },
     "execution_count": 16,
     "metadata": {},
     "output_type": "execute_result"
    }
   ],
   "source": [
    "new_df5 = pd.DataFrame({'default_yes': data[(data['default'] == 'yes') ]['balance'].describe()})\n",
    "new_df5['default_no'] = data[(data['default'] == 'no') ]['balance'].describe()\n",
    "new_df5"
   ]
  },
  {
   "cell_type": "code",
   "execution_count": 17,
   "metadata": {},
   "outputs": [
    {
     "name": "stderr",
     "output_type": "stream",
     "text": [
      "/Users/p1p3/anaconda3/lib/python3.6/site-packages/matplotlib/axes/_axes.py:6462: UserWarning: The 'normed' kwarg is deprecated, and has been replaced by the 'density' kwarg.\n",
      "  warnings.warn(\"The 'normed' kwarg is deprecated, and has been \"\n",
      "/Users/p1p3/anaconda3/lib/python3.6/site-packages/matplotlib/axes/_axes.py:6462: UserWarning: The 'normed' kwarg is deprecated, and has been replaced by the 'density' kwarg.\n",
      "  warnings.warn(\"The 'normed' kwarg is deprecated, and has been \"\n"
     ]
    },
    {
     "data": {
      "image/png": "[encoded data removed]",
      "text/plain": [
       "<Figure size 720x432 with 2 Axes>"
      ]
     },
     "metadata": {},
     "output_type": "display_data"
    }
   ],
   "source": [
    "# initialize the matplotlib figure and seabond sytle\n",
    "f, (ax1, ax2) = plt.subplots(1,2,figsize=(10,6))\n",
    "sns.distplot(default_y, kde=True, bins=20, ax=ax1)\n",
    "ax1.set(ylabel='Density', xlabel='Balance for Default')\n",
    "sns.despine(left=True, bottom=True)\n",
    "\n",
    "sns.distplot(default_n, kde=True, bins=20, ax=ax2)\n",
    "ax2.set(ylabel='Density', xlabel='Balance for No Default')\n",
    "plt.tight_layout()\n",
    "plt.savefig('question_5.png')"
   ]
  },
  {
   "cell_type": "markdown",
   "metadata": {},
   "source": [
    "## Sixth question"
   ]
  },
  {
   "cell_type": "code",
   "execution_count": 18,
   "metadata": {},
   "outputs": [
    {
     "data": {
      "text/html": [
       "<div>\n",
       "<style scoped>\n",
       "    .dataframe tbody tr th:only-of-type {\n",
       "        vertical-align: middle;\n",
       "    }\n",
       "\n",
       "    .dataframe tbody tr th {\n",
       "        vertical-align: top;\n",
       "    }\n",
       "\n",
       "    .dataframe thead th {\n",
       "        text-align: right;\n",
       "    }\n",
       "</style>\n",
       "<table border=\"1\" class=\"dataframe\">\n",
       "  <thead>\n",
       "    <tr style=\"text-align: right;\">\n",
       "      <th></th>\n",
       "      <th>job</th>\n",
       "      <th>marital</th>\n",
       "      <th>education</th>\n",
       "      <th>default</th>\n",
       "      <th>loan</th>\n",
       "    </tr>\n",
       "  </thead>\n",
       "  <tbody>\n",
       "    <tr>\n",
       "      <th>count</th>\n",
       "      <td>25130</td>\n",
       "      <td>25130</td>\n",
       "      <td>25130</td>\n",
       "      <td>25130</td>\n",
       "      <td>25130</td>\n",
       "    </tr>\n",
       "    <tr>\n",
       "      <th>unique</th>\n",
       "      <td>12</td>\n",
       "      <td>3</td>\n",
       "      <td>4</td>\n",
       "      <td>2</td>\n",
       "      <td>2</td>\n",
       "    </tr>\n",
       "    <tr>\n",
       "      <th>top</th>\n",
       "      <td>blue-collar</td>\n",
       "      <td>married</td>\n",
       "      <td>secondary</td>\n",
       "      <td>no</td>\n",
       "      <td>no</td>\n",
       "    </tr>\n",
       "    <tr>\n",
       "      <th>freq</th>\n",
       "      <td>7048</td>\n",
       "      <td>15321</td>\n",
       "      <td>14038</td>\n",
       "      <td>24695</td>\n",
       "      <td>20763</td>\n",
       "    </tr>\n",
       "  </tbody>\n",
       "</table>\n",
       "</div>"
      ],
      "text/plain": [
       "                job  marital  education default   loan\n",
       "count         25130    25130      25130   25130  25130\n",
       "unique           12        3          4       2      2\n",
       "top     blue-collar  married  secondary      no     no\n",
       "freq           7048    15321      14038   24695  20763"
      ]
     },
     "execution_count": 18,
     "metadata": {},
     "output_type": "execute_result"
    }
   ],
   "source": [
    "Caracteristics = ['job', 'marital', 'education', 'default', 'loan']\n",
    "new_df6 = data[data['housing'] == 'yes'][Caracteristics].describe()\n",
    "new_df6"
   ]
  },
  {
   "cell_type": "code",
   "execution_count": 19,
   "metadata": {},
   "outputs": [
    {
     "data": {
      "image/png": "[encoded data removed]",
      "text/plain": [
       "<Figure size 432x288 with 1 Axes>"
      ]
     },
     "metadata": {},
     "output_type": "display_data"
    }
   ],
   "source": [
    "# initialize the matplotlib figure and seabond sytle\n",
    "fig = plt.figure(figsize=(6,4))\n",
    "ax = fig.add_axes([0.15, 0.15, 0.8, 0.8])\n",
    "ax.bar(Caracteristics,new_df6.loc['freq'])\n",
    "ax.set_ylabel('Frequency')\n",
    "ax.set_xlabel('Characteristics')\n",
    "plt.savefig('question_6.png')\n"
   ]
  },
  {
   "cell_type": "code",
   "execution_count": null,
   "metadata": {},
   "outputs": [],
   "source": []
  },
  {
   "cell_type": "code",
   "execution_count": null,
   "metadata": {},
   "outputs": [],
   "source": []
  }
 ],
 "metadata": {
  "kernelspec": {
   "display_name": "Python 3",
   "language": "python",
   "name": "python3"
  },
  "language_info": {
   "codemirror_mode": {
    "name": "ipython",
    "version": 3
   },
   "file_extension": ".py",
   "mimetype": "text/x-python",
   "name": "python",
   "nbconvert_exporter": "python",
   "pygments_lexer": "ipython3",
   "version": "3.6.5"
  }
 },
 "nbformat": 4,
 "nbformat_minor": 2
}
